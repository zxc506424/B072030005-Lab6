{
 "cells": [
  {
   "cell_type": "code",
   "execution_count": null,
   "metadata": {},
   "outputs": [
    {
     "name": "stdout",
     "output_type": "stream",
     "text": [
      "pygame 2.0.1 (SDL 2.0.14, Python 3.8.5)\n",
      "Hello from the pygame community. https://www.pygame.org/contribute.html\n"
     ]
    }
   ],
   "source": [
    "import pygame\n",
    "from game import Game\n",
    "from settings import FPS\n",
    "\n",
    "if __name__ == '__main__':\n",
    "    # initialization\n",
    "    pygame.init()\n",
    "    # set the window\n",
    "    pygame.display.set_caption(\"My TD game\")\n",
    "\n",
    "    covid_game = Game()\n",
    "    quit_game = False\n",
    "    while not quit_game:\n",
    "        pygame.time.Clock().tick(FPS)\n",
    "        quit_game = covid_game.update()\n",
    "        covid_game.draw()\n",
    "\n",
    "    pygame.quit()\n"
   ]
  },
  {
   "cell_type": "code",
   "execution_count": null,
   "metadata": {},
   "outputs": [],
   "source": []
  }
 ],
 "metadata": {
  "kernelspec": {
   "display_name": "Python 3",
   "language": "python",
   "name": "python3"
  },
  "language_info": {
   "codemirror_mode": {
    "name": "ipython",
    "version": 3
   },
   "file_extension": ".py",
   "mimetype": "text/x-python",
   "name": "python",
   "nbconvert_exporter": "python",
   "pygments_lexer": "ipython3",
   "version": "3.8.5"
  }
 },
 "nbformat": 4,
 "nbformat_minor": 4
}
